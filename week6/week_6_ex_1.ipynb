{
 "cells": [
  {
   "cell_type": "markdown",
   "metadata": {},
   "source": [
    "# Exercise 1: KNN Classifier (5 Points)\n",
    "\n",
    "##### Now use the KNeighborsClassifier (using k=5 and the default weights) to train a kNN algorithm using the \"totalAmount\" feature on our toy dataset (split again in train and test data and only call the \"fit\" function on the train data)."
   ]
  },
  {
   "cell_type": "code",
   "execution_count": 1,
   "metadata": {},
   "outputs": [
    {
     "data": {
      "text/html": [
       "<div>\n",
       "<style scoped>\n",
       "    .dataframe tbody tr th:only-of-type {\n",
       "        vertical-align: middle;\n",
       "    }\n",
       "\n",
       "    .dataframe tbody tr th {\n",
       "        vertical-align: top;\n",
       "    }\n",
       "\n",
       "    .dataframe thead th {\n",
       "        text-align: right;\n",
       "    }\n",
       "</style>\n",
       "<table border=\"1\" class=\"dataframe\">\n",
       "  <thead>\n",
       "    <tr style=\"text-align: right;\">\n",
       "      <th></th>\n",
       "      <th>basket</th>\n",
       "      <th>returnLabel</th>\n",
       "      <th>totalAmount</th>\n",
       "      <th>transactionId</th>\n",
       "      <th>zipCode</th>\n",
       "    </tr>\n",
       "  </thead>\n",
       "  <tbody>\n",
       "    <tr>\n",
       "      <th>4928</th>\n",
       "      <td>[4, 2]</td>\n",
       "      <td>1</td>\n",
       "      <td>218</td>\n",
       "      <td>3603764289</td>\n",
       "      <td>3196</td>\n",
       "    </tr>\n",
       "    <tr>\n",
       "      <th>14950</th>\n",
       "      <td>[3]</td>\n",
       "      <td>0</td>\n",
       "      <td>105</td>\n",
       "      <td>2755584325</td>\n",
       "      <td>7614</td>\n",
       "    </tr>\n",
       "    <tr>\n",
       "      <th>27261</th>\n",
       "      <td>[4, 4, 2, 0, 5, 3]</td>\n",
       "      <td>0</td>\n",
       "      <td>564</td>\n",
       "      <td>3337040988</td>\n",
       "      <td>9389</td>\n",
       "    </tr>\n",
       "    <tr>\n",
       "      <th>27220</th>\n",
       "      <td>[0, 1, 3]</td>\n",
       "      <td>0</td>\n",
       "      <td>156</td>\n",
       "      <td>9660874640</td>\n",
       "      <td>3538</td>\n",
       "    </tr>\n",
       "    <tr>\n",
       "      <th>8829</th>\n",
       "      <td>[3]</td>\n",
       "      <td>0</td>\n",
       "      <td>84</td>\n",
       "      <td>2323718458</td>\n",
       "      <td>3154</td>\n",
       "    </tr>\n",
       "  </tbody>\n",
       "</table>\n",
       "</div>"
      ],
      "text/plain": [
       "                   basket  returnLabel  totalAmount  transactionId  zipCode\n",
       "4928               [4, 2]            1          218     3603764289     3196\n",
       "14950                 [3]            0          105     2755584325     7614\n",
       "27261  [4, 4, 2, 0, 5, 3]            0          564     3337040988     9389\n",
       "27220           [0, 1, 3]            0          156     9660874640     3538\n",
       "8829                  [3]            0           84     2323718458     3154"
      ]
     },
     "execution_count": 1,
     "metadata": {},
     "output_type": "execute_result"
    }
   ],
   "source": [
    "import pandas as pd\n",
    "import numpy as np\n",
    "import json\n",
    "import matplotlib.pyplot as plt\n",
    "%matplotlib inline\n",
    "\n",
    "transactions = []\n",
    "days_in_month = 31\n",
    "for i in range (1,days_in_month+1):\n",
    "  for line in open('data/return-data/2017-01-'+str(i).zfill(2)+'.txt', 'r'):\n",
    "    transactions.append(json.loads(line))\n",
    "transactions_df = pd.DataFrame.from_dict(transactions)\n",
    "transactions_df.sample(5)"
   ]
  },
  {
   "cell_type": "code",
   "execution_count": 2,
   "metadata": {},
   "outputs": [],
   "source": [
    "from sklearn.model_selection import train_test_split\n",
    "from sklearn import preprocessing\n",
    "\n",
    "X = transactions_df.totalAmount\n",
    "y = transactions_df.returnLabel\n",
    "X_train, X_test, y_train, y_test = train_test_split(X, y, test_size=0.30)"
   ]
  },
  {
   "cell_type": "markdown",
   "metadata": {},
   "source": [
    "##### Make sure that you normalized the feature before training the model (and also normalize the test data before testing)."
   ]
  },
  {
   "cell_type": "code",
   "execution_count": 3,
   "metadata": {},
   "outputs": [],
   "source": [
    "from sklearn import preprocessing\n",
    "\n",
    "X_train = preprocessing.normalize([X_train])\n",
    "X_test = preprocessing.normalize([X_test])"
   ]
  },
  {
   "cell_type": "code",
   "execution_count": 4,
   "metadata": {},
   "outputs": [
    {
     "data": {
      "text/plain": [
       "(21700, 1)"
      ]
     },
     "execution_count": 4,
     "metadata": {},
     "output_type": "execute_result"
    }
   ],
   "source": [
    "X_train = X_train.transpose()\n",
    "X_train.shape"
   ]
  },
  {
   "cell_type": "code",
   "execution_count": 5,
   "metadata": {},
   "outputs": [
    {
     "data": {
      "text/plain": [
       "(9300, 1)"
      ]
     },
     "execution_count": 5,
     "metadata": {},
     "output_type": "execute_result"
    }
   ],
   "source": [
    "X_test = X_test.transpose()\n",
    "X_test.shape"
   ]
  },
  {
   "cell_type": "code",
   "execution_count": 6,
   "metadata": {},
   "outputs": [
    {
     "data": {
      "text/plain": [
       "KNeighborsClassifier(algorithm='auto', leaf_size=30, metric='minkowski',\n",
       "           metric_params=None, n_jobs=None, n_neighbors=5, p=2,\n",
       "           weights='uniform')"
      ]
     },
     "execution_count": 6,
     "metadata": {},
     "output_type": "execute_result"
    }
   ],
   "source": [
    "from sklearn.neighbors import KNeighborsClassifier\n",
    "\n",
    "knclass = KNeighborsClassifier(n_neighbors=5)\n",
    "knclass.fit(X_train, y_train)"
   ]
  },
  {
   "cell_type": "markdown",
   "metadata": {},
   "source": [
    "##### Test the accuracy of the classifier on the test data."
   ]
  },
  {
   "cell_type": "code",
   "execution_count": 7,
   "metadata": {},
   "outputs": [],
   "source": [
    "predictions = knclass.predict(X_test)"
   ]
  },
  {
   "cell_type": "code",
   "execution_count": 8,
   "metadata": {},
   "outputs": [
    {
     "name": "stdout",
     "output_type": "stream",
     "text": [
      "              precision    recall  f1-score   support\n",
      "\n",
      "           0       0.97      1.00      0.98      9047\n",
      "           1       0.00      0.00      0.00       253\n",
      "\n",
      "   micro avg       0.97      0.97      0.97      9300\n",
      "   macro avg       0.49      0.50      0.49      9300\n",
      "weighted avg       0.95      0.97      0.96      9300\n",
      "\n",
      "Accuracy: 0.9702150537634409\n"
     ]
    }
   ],
   "source": [
    "from sklearn.metrics import classification_report\n",
    "import sklearn.metrics as metrics\n",
    "\n",
    "print(classification_report(y_test,predictions))\n",
    "print(\"Accuracy:\",metrics.accuracy_score(y_test, predictions))"
   ]
  }
 ],
 "metadata": {
  "kernelspec": {
   "display_name": "Python 3",
   "language": "python",
   "name": "python3"
  },
  "language_info": {
   "codemirror_mode": {
    "name": "ipython",
    "version": 3
   },
   "file_extension": ".py",
   "mimetype": "text/x-python",
   "name": "python",
   "nbconvert_exporter": "python",
   "pygments_lexer": "ipython3",
   "version": "3.7.3"
  }
 },
 "nbformat": 4,
 "nbformat_minor": 2
}
