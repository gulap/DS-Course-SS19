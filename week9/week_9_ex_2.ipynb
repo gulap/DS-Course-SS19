{
 "cells": [
  {
   "cell_type": "markdown",
   "metadata": {},
   "source": [
    "### Exercise 2 (6 Points):\n",
    "\n",
    "##### Write your own function (without using sklearn) that plots a roc curve given: (i) the predictions of the respective model on the test data  and (ii) the true label of the test data. Use this function to generate the ROC plots for two models like in Exercise 1.\n",
    "\n",
    "##### (Hint: You do not need to calculate the area-under-curve)."
   ]
  },
  {
   "cell_type": "code",
   "execution_count": 1,
   "metadata": {},
   "outputs": [],
   "source": [
    "import pandas as pd\n",
    "import numpy as np\n",
    "import matplotlib.pyplot as plt\n",
    "%matplotlib inline"
   ]
  },
  {
   "cell_type": "code",
   "execution_count": 2,
   "metadata": {},
   "outputs": [
    {
     "data": {
      "text/html": [
       "<div>\n",
       "<style scoped>\n",
       "    .dataframe tbody tr th:only-of-type {\n",
       "        vertical-align: middle;\n",
       "    }\n",
       "\n",
       "    .dataframe tbody tr th {\n",
       "        vertical-align: top;\n",
       "    }\n",
       "\n",
       "    .dataframe thead th {\n",
       "        text-align: right;\n",
       "    }\n",
       "</style>\n",
       "<table border=\"1\" class=\"dataframe\">\n",
       "  <thead>\n",
       "    <tr style=\"text-align: right;\">\n",
       "      <th></th>\n",
       "      <th>totalAmount</th>\n",
       "      <th>c_0</th>\n",
       "      <th>c_1</th>\n",
       "      <th>c_2</th>\n",
       "      <th>c_3</th>\n",
       "      <th>c_4</th>\n",
       "      <th>c_5</th>\n",
       "      <th>returnLabel</th>\n",
       "    </tr>\n",
       "  </thead>\n",
       "  <tbody>\n",
       "    <tr>\n",
       "      <th>0</th>\n",
       "      <td>240</td>\n",
       "      <td>1</td>\n",
       "      <td>0</td>\n",
       "      <td>3</td>\n",
       "      <td>1</td>\n",
       "      <td>3</td>\n",
       "      <td>0</td>\n",
       "      <td>0</td>\n",
       "    </tr>\n",
       "    <tr>\n",
       "      <th>1</th>\n",
       "      <td>79</td>\n",
       "      <td>0</td>\n",
       "      <td>0</td>\n",
       "      <td>1</td>\n",
       "      <td>0</td>\n",
       "      <td>0</td>\n",
       "      <td>0</td>\n",
       "      <td>0</td>\n",
       "    </tr>\n",
       "    <tr>\n",
       "      <th>2</th>\n",
       "      <td>24</td>\n",
       "      <td>0</td>\n",
       "      <td>0</td>\n",
       "      <td>1</td>\n",
       "      <td>1</td>\n",
       "      <td>0</td>\n",
       "      <td>0</td>\n",
       "      <td>0</td>\n",
       "    </tr>\n",
       "    <tr>\n",
       "      <th>3</th>\n",
       "      <td>504</td>\n",
       "      <td>0</td>\n",
       "      <td>3</td>\n",
       "      <td>0</td>\n",
       "      <td>0</td>\n",
       "      <td>1</td>\n",
       "      <td>2</td>\n",
       "      <td>0</td>\n",
       "    </tr>\n",
       "    <tr>\n",
       "      <th>4</th>\n",
       "      <td>190</td>\n",
       "      <td>1</td>\n",
       "      <td>0</td>\n",
       "      <td>1</td>\n",
       "      <td>1</td>\n",
       "      <td>2</td>\n",
       "      <td>0</td>\n",
       "      <td>0</td>\n",
       "    </tr>\n",
       "  </tbody>\n",
       "</table>\n",
       "</div>"
      ],
      "text/plain": [
       "   totalAmount  c_0  c_1  c_2  c_3  c_4  c_5  returnLabel\n",
       "0          240    1    0    3    1    3    0            0\n",
       "1           79    0    0    1    0    0    0            0\n",
       "2           24    0    0    1    1    0    0            0\n",
       "3          504    0    3    0    0    1    2            0\n",
       "4          190    1    0    1    1    2    0            0"
      ]
     },
     "execution_count": 2,
     "metadata": {},
     "output_type": "execute_result"
    }
   ],
   "source": [
    "transactions = pd.read_csv('data/data.csv')\n",
    "\n",
    "transactions.drop(['Unnamed: 0'], axis=1, inplace=True)\n",
    "\n",
    "transactions = transactions[['totalAmount','c_0','c_1','c_2','c_3','c_4','c_5', 'returnLabel']]\n",
    "transactions.head()"
   ]
  },
  {
   "cell_type": "code",
   "execution_count": 3,
   "metadata": {},
   "outputs": [],
   "source": [
    "from sklearn.model_selection import train_test_split\n",
    "\n",
    "X = transactions.drop('returnLabel',axis=1)\n",
    "y = transactions.returnLabel\n",
    "X_train, X_test, y_train, y_test = train_test_split(X, y, test_size=0.30)"
   ]
  },
  {
   "cell_type": "code",
   "execution_count": 4,
   "metadata": {},
   "outputs": [],
   "source": [
    "from sklearn.linear_model import LogisticRegression\n",
    "\n",
    "reg_model = LogisticRegression(solver='liblinear')\n",
    "reg_model.fit(X_train, y_train)\n",
    "\n",
    "reg_probs = reg_model.predict_proba(X_test)[:, 1]\n",
    "reg_probs_df = pd.DataFrame(reg_probs)"
   ]
  },
  {
   "cell_type": "code",
   "execution_count": 5,
   "metadata": {},
   "outputs": [],
   "source": [
    "from sklearn.ensemble import RandomForestClassifier\n",
    "\n",
    "for_model = RandomForestClassifier(n_estimators=500)\n",
    "for_model.fit(X_train, y_train)\n",
    "\n",
    "for_probs = for_model.predict_proba(X_test)[:, 1]\n",
    "for_probs_df = pd.DataFrame(for_probs)"
   ]
  },
  {
   "cell_type": "code",
   "execution_count": 6,
   "metadata": {},
   "outputs": [],
   "source": [
    "def prepare_df(probs):\n",
    "  df = pd.DataFrame(y_test)\n",
    "  df.reset_index(drop=True, inplace=True)\n",
    "\n",
    "  probs_df = pd.DataFrame(probs)\n",
    "  probs_df.rename(columns={0: \"probs\"}, inplace=True)\n",
    "\n",
    "  new_probs_df = pd.concat([df['returnLabel'], probs_df['probs']], axis=1, keys=['returnLabel', 'probs'])\n",
    "\n",
    "  new_probs_df.sort_values(by='probs', ascending=False, inplace=True)\n",
    "  new_probs_df.reset_index(drop=True, inplace=True)\n",
    "  return new_probs_df\n",
    "\n",
    "new_reg_probs_df = prepare_df(reg_probs)\n",
    "new_for_probs_df = prepare_df(for_probs)"
   ]
  },
  {
   "cell_type": "code",
   "execution_count": 7,
   "metadata": {},
   "outputs": [],
   "source": [
    "def get_tpr_fpr(sorted_df):\n",
    "  tpr = []\n",
    "  fpr = []\n",
    "  my_range = len(sorted_df)\n",
    "  for i in range(my_range):\n",
    "    tp = fp = all_pos = all_neg = 0\n",
    "    threshold = sorted_df.probs[i]\n",
    "    for j in range(my_range):\n",
    "      if sorted_df.returnLabel[j]:\n",
    "        all_pos += 1\n",
    "        if sorted_df.probs[j] >= threshold:\n",
    "          tp += 1\n",
    "      else:\n",
    "        all_neg += 1\n",
    "        if sorted_df.probs[j] >= threshold:\n",
    "          fp += 1\n",
    "    if all_pos and all_neg:\n",
    "      # TPR = True positives / all positives\n",
    "      my_tpr = tp / (all_pos)\n",
    "      # FPR  = False positives / all negatives\n",
    "      my_fpr = fp / (all_neg)\n",
    "      tpr.append(my_tpr)\n",
    "      fpr.append(my_fpr)\n",
    "  return(tpr, fpr)\n",
    "\n",
    "reg_tpr, reg_fpr = get_tpr_fpr(new_reg_probs_df)\n",
    "for_tpr, for_fpr = get_tpr_fpr(new_for_probs_df)"
   ]
  },
  {
   "cell_type": "code",
   "execution_count": 8,
   "metadata": {},
   "outputs": [
    {
     "data": {
      "image/png": "[encoded data removed]",
      "text/plain": [
       "<Figure size 432x288 with 1 Axes>"
      ]
     },
     "metadata": {
      "needs_background": "light"
     },
     "output_type": "display_data"
    }
   ],
   "source": [
    "# plot the roc curve for the model\n",
    "plt.plot(reg_fpr, reg_tpr, for_fpr, for_tpr)\n",
    "#plt.plot(reg_fpr, reg_tpr)\n",
    "\n",
    "plt.plot([0, 1], [0, 1], linestyle='--')\n",
    "\n",
    "\n",
    "#plt.legend(['Logistic Regression', 'Random Forest'], loc='best')\n",
    "\n",
    "# naming the axes \n",
    "plt.xlabel('fpr - False Positivee Rate') \n",
    "plt.ylabel('tpr - True Positivee Rate')  \n",
    "  \n",
    "plt.title('Receiver Operating Characteristic') \n",
    "\n",
    "# show the plot\n",
    "plt.show()"
   ]
  }
 ],
 "metadata": {
  "kernelspec": {
   "display_name": "Python 3",
   "language": "python",
   "name": "python3"
  },
  "language_info": {
   "codemirror_mode": {
    "name": "ipython",
    "version": 3
   },
   "file_extension": ".py",
   "mimetype": "text/x-python",
   "name": "python",
   "nbconvert_exporter": "python",
   "pygments_lexer": "ipython3",
   "version": "3.7.3"
  }
 },
 "nbformat": 4,
 "nbformat_minor": 2
}
