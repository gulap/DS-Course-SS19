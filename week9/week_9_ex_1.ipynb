{
 "cells": [
  {
   "cell_type": "markdown",
   "metadata": {},
   "source": [
    "### Exercise 1 (4 Points):\n",
    "\n",
    "##### Use our toy data set to train a Logistic Regression and a Random Forest model (use the `totalAmount` and the `cartItem` features). Predict on the test data and use the results to plot a ROC curve for each classifier, like shown here (https://scikit-learn.org/stable/modules/model_evaluation.html#roc-metrics). Plot the two curves in one plot and also show the area-under-curve for each curve in the plot. Use the sklearn (https://scikit-learn.org/stable/modules/generated/sklearn.metrics.roc_curve.html) library for this."
   ]
  },
  {
   "cell_type": "code",
   "execution_count": 1,
   "metadata": {},
   "outputs": [],
   "source": [
    "import pandas as pd\n",
    "import numpy as np\n",
    "import matplotlib.pyplot as plt\n",
    "%matplotlib inline\n",
    "import json"
   ]
  },
  {
   "cell_type": "code",
   "execution_count": 2,
   "metadata": {},
   "outputs": [
    {
     "data": {
      "text/html": [
       "<div>\n",
       "<style scoped>\n",
       "    .dataframe tbody tr th:only-of-type {\n",
       "        vertical-align: middle;\n",
       "    }\n",
       "\n",
       "    .dataframe tbody tr th {\n",
       "        vertical-align: top;\n",
       "    }\n",
       "\n",
       "    .dataframe thead th {\n",
       "        text-align: right;\n",
       "    }\n",
       "</style>\n",
       "<table border=\"1\" class=\"dataframe\">\n",
       "  <thead>\n",
       "    <tr style=\"text-align: right;\">\n",
       "      <th></th>\n",
       "      <th>norm_Amount</th>\n",
       "      <th>norm_c_0</th>\n",
       "      <th>norm_c_1</th>\n",
       "      <th>norm_c_2</th>\n",
       "      <th>norm_c_3</th>\n",
       "      <th>norm_c_4</th>\n",
       "      <th>norm_c_5</th>\n",
       "      <th>returnLabel</th>\n",
       "    </tr>\n",
       "  </thead>\n",
       "  <tbody>\n",
       "    <tr>\n",
       "      <th>0</th>\n",
       "      <td>0.004322</td>\n",
       "      <td>0.004696</td>\n",
       "      <td>0.000000</td>\n",
       "      <td>0.014315</td>\n",
       "      <td>0.004613</td>\n",
       "      <td>0.013428</td>\n",
       "      <td>0.000000</td>\n",
       "      <td>0</td>\n",
       "    </tr>\n",
       "    <tr>\n",
       "      <th>1</th>\n",
       "      <td>0.001423</td>\n",
       "      <td>0.000000</td>\n",
       "      <td>0.000000</td>\n",
       "      <td>0.004772</td>\n",
       "      <td>0.000000</td>\n",
       "      <td>0.000000</td>\n",
       "      <td>0.000000</td>\n",
       "      <td>0</td>\n",
       "    </tr>\n",
       "    <tr>\n",
       "      <th>2</th>\n",
       "      <td>0.000432</td>\n",
       "      <td>0.000000</td>\n",
       "      <td>0.000000</td>\n",
       "      <td>0.004772</td>\n",
       "      <td>0.004613</td>\n",
       "      <td>0.000000</td>\n",
       "      <td>0.000000</td>\n",
       "      <td>0</td>\n",
       "    </tr>\n",
       "    <tr>\n",
       "      <th>3</th>\n",
       "      <td>0.009077</td>\n",
       "      <td>0.000000</td>\n",
       "      <td>0.014256</td>\n",
       "      <td>0.000000</td>\n",
       "      <td>0.000000</td>\n",
       "      <td>0.004476</td>\n",
       "      <td>0.009555</td>\n",
       "      <td>0</td>\n",
       "    </tr>\n",
       "    <tr>\n",
       "      <th>4</th>\n",
       "      <td>0.003422</td>\n",
       "      <td>0.004696</td>\n",
       "      <td>0.000000</td>\n",
       "      <td>0.004772</td>\n",
       "      <td>0.004613</td>\n",
       "      <td>0.008952</td>\n",
       "      <td>0.000000</td>\n",
       "      <td>0</td>\n",
       "    </tr>\n",
       "  </tbody>\n",
       "</table>\n",
       "</div>"
      ],
      "text/plain": [
       "   norm_Amount  norm_c_0  norm_c_1  norm_c_2  norm_c_3  norm_c_4  norm_c_5  \\\n",
       "0     0.004322  0.004696  0.000000  0.014315  0.004613  0.013428  0.000000   \n",
       "1     0.001423  0.000000  0.000000  0.004772  0.000000  0.000000  0.000000   \n",
       "2     0.000432  0.000000  0.000000  0.004772  0.004613  0.000000  0.000000   \n",
       "3     0.009077  0.000000  0.014256  0.000000  0.000000  0.004476  0.009555   \n",
       "4     0.003422  0.004696  0.000000  0.004772  0.004613  0.008952  0.000000   \n",
       "\n",
       "   returnLabel  \n",
       "0            0  \n",
       "1            0  \n",
       "2            0  \n",
       "3            0  \n",
       "4            0  "
      ]
     },
     "execution_count": 2,
     "metadata": {},
     "output_type": "execute_result"
    }
   ],
   "source": [
    "transactions = pd.read_csv('data/data.csv')\n",
    "from sklearn import preprocessing\n",
    "\n",
    "transactions = transactions.assign(norm_Amount=preprocessing.normalize([transactions.totalAmount]).transpose())\n",
    "transactions = transactions.assign(norm_c_0=preprocessing.normalize([transactions.c_0]).transpose())\n",
    "transactions = transactions.assign(norm_c_1=preprocessing.normalize([transactions.c_1]).transpose())\n",
    "transactions = transactions.assign(norm_c_2=preprocessing.normalize([transactions.c_2]).transpose())\n",
    "transactions = transactions.assign(norm_c_3=preprocessing.normalize([transactions.c_3]).transpose())\n",
    "transactions = transactions.assign(norm_c_4=preprocessing.normalize([transactions.c_4]).transpose())\n",
    "transactions = transactions.assign(norm_c_5=preprocessing.normalize([transactions.c_5]).transpose())\n",
    "\n",
    "transactions = transactions.drop(['Unnamed: 0','totalAmount','c_0','c_1','c_2','c_3','c_4','c_5'], axis=1)\n",
    "\n",
    "transactions = transactions[['norm_Amount', 'norm_c_0', 'norm_c_1', 'norm_c_2', 'norm_c_3', 'norm_c_4', 'norm_c_5', 'returnLabel']]\n",
    "transactions.head()"
   ]
  },
  {
   "cell_type": "code",
   "execution_count": 3,
   "metadata": {},
   "outputs": [],
   "source": [
    "from sklearn.model_selection import train_test_split\n",
    "\n",
    "X = transactions.drop('returnLabel',axis=1)\n",
    "y = transactions.returnLabel\n",
    "X_train, X_test, y_train, y_test = train_test_split(X, y, test_size=0.30)\n",
    "\n",
    "from sklearn.linear_model import LogisticRegression\n",
    "\n",
    "reg_model = LogisticRegression(solver='lbfgs')\n",
    "reg_model.fit(X_train, y_train)\n",
    "\n",
    "reg_probs = reg_model.predict_proba(X_test)\n",
    "reg_probs = reg_probs[::, 1]"
   ]
  },
  {
   "cell_type": "code",
   "execution_count": 4,
   "metadata": {},
   "outputs": [],
   "source": [
    "from sklearn.ensemble import RandomForestClassifier\n",
    "\n",
    "for_model = RandomForestClassifier(n_estimators=100)\n",
    "for_model.fit(X_train, y_train)\n",
    "\n",
    "for_probs = for_model.predict_proba(X_test)\n",
    "for_probs = for_probs[::, 1]"
   ]
  },
  {
   "cell_type": "code",
   "execution_count": 5,
   "metadata": {
    "scrolled": true
   },
   "outputs": [
    {
     "data": {
      "image/png": "[encoded data removed]",
      "text/plain": [
       "<Figure size 432x288 with 1 Axes>"
      ]
     },
     "metadata": {
      "needs_background": "light"
     },
     "output_type": "display_data"
    }
   ],
   "source": [
    "from sklearn.metrics import roc_curve\n",
    "from sklearn.metrics import roc_auc_score\n",
    "\n",
    "# calculate AUC\n",
    "reg_auc = roc_auc_score(y_test, reg_probs)\n",
    "for_auc = roc_auc_score(y_test, for_probs)\n",
    "# calculate roc curve\n",
    "reg_fpr, reg_tpr, thresholds = roc_curve(y_test, reg_probs)\n",
    "for_fpr, for_tpr, thresholds = roc_curve(y_test, for_probs)\n",
    "\n",
    "# plot the roc curve for the model\n",
    "plt.plot(reg_fpr, reg_tpr, for_fpr, for_tpr)\n",
    "plt.plot([0, 1], [0, 1], linestyle='--')\n",
    "\n",
    "\n",
    "plt.legend(['Logistic Regression AUC ='+str(round(reg_auc,5)), 'Random Forest AUC ='+str(round(for_auc,5))], loc='best')\n",
    "# naming the axes \n",
    "plt.xlabel('fpr - False Positives') \n",
    "plt.ylabel('tpr - True Positives') \n",
    "  \n",
    "plt.title('Logistic Regression and Random Forest') \n",
    "\n",
    "\n",
    "# show the plot\n",
    "plt.show()"
   ]
  }
 ],
 "metadata": {
  "kernelspec": {
   "display_name": "Python 3",
   "language": "python",
   "name": "python3"
  },
  "language_info": {
   "codemirror_mode": {
    "name": "ipython",
    "version": 3
   },
   "file_extension": ".py",
   "mimetype": "text/x-python",
   "name": "python",
   "nbconvert_exporter": "python",
   "pygments_lexer": "ipython3",
   "version": "3.7.3"
  }
 },
 "nbformat": 4,
 "nbformat_minor": 2
}
