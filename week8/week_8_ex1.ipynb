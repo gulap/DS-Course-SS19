{
 "cells": [
  {
   "cell_type": "markdown",
   "metadata": {},
   "source": [
    "## Exercise 1: Gini Impurity (6 Points)\n",
    "\n",
    "#### We saw in the lecture that a decision tree is built using a splitting criteria like the \"Gini impurity\".\n",
    "\n",
    "#### Hint: Compared to the example (https://www.analyticsvidhya.com/blog/2016/04/complete-tutorial-tree-based-modeling-scratch-in-python/#three)we discussed in the lecture, the splits for these features are not only \"binary\" (e.g. if we use \"Temperature\" as feature, the split will create three instead of two sub-nodes, because we have \"hot\", \"cool\" and \"mild\" as feature values). However, the formula from the example can be easily extended to handle this case too."
   ]
  },
  {
   "cell_type": "code",
   "execution_count": 1,
   "metadata": {},
   "outputs": [],
   "source": [
    "import pandas as pd\n",
    "import numpy as np"
   ]
  },
  {
   "cell_type": "markdown",
   "metadata": {},
   "source": [
    "#### Load the attached \"golf.csv\" dataset into a pandas dataframe"
   ]
  },
  {
   "cell_type": "code",
   "execution_count": 2,
   "metadata": {},
   "outputs": [],
   "source": [
    "golf_df = pd.read_csv(\"data/golf.csv\")"
   ]
  },
  {
   "cell_type": "code",
   "execution_count": 3,
   "metadata": {},
   "outputs": [],
   "source": [
    "golf_df = golf_df.drop(columns=['Day'])"
   ]
  },
  {
   "cell_type": "code",
   "execution_count": 4,
   "metadata": {},
   "outputs": [
    {
     "data": {
      "text/html": [
       "<div>\n",
       "<style scoped>\n",
       "    .dataframe tbody tr th:only-of-type {\n",
       "        vertical-align: middle;\n",
       "    }\n",
       "\n",
       "    .dataframe tbody tr th {\n",
       "        vertical-align: top;\n",
       "    }\n",
       "\n",
       "    .dataframe thead th {\n",
       "        text-align: right;\n",
       "    }\n",
       "</style>\n",
       "<table border=\"1\" class=\"dataframe\">\n",
       "  <thead>\n",
       "    <tr style=\"text-align: right;\">\n",
       "      <th></th>\n",
       "      <th>Temperature</th>\n",
       "      <th>Outlook</th>\n",
       "      <th>Humidity</th>\n",
       "      <th>Windy</th>\n",
       "      <th>Golf</th>\n",
       "    </tr>\n",
       "  </thead>\n",
       "  <tbody>\n",
       "    <tr>\n",
       "      <th>0</th>\n",
       "      <td>hot</td>\n",
       "      <td>sunny</td>\n",
       "      <td>high</td>\n",
       "      <td>False</td>\n",
       "      <td>no</td>\n",
       "    </tr>\n",
       "    <tr>\n",
       "      <th>1</th>\n",
       "      <td>hot</td>\n",
       "      <td>sunny</td>\n",
       "      <td>high</td>\n",
       "      <td>True</td>\n",
       "      <td>no</td>\n",
       "    </tr>\n",
       "    <tr>\n",
       "      <th>2</th>\n",
       "      <td>hot</td>\n",
       "      <td>overcast</td>\n",
       "      <td>high</td>\n",
       "      <td>False</td>\n",
       "      <td>yes</td>\n",
       "    </tr>\n",
       "    <tr>\n",
       "      <th>3</th>\n",
       "      <td>cool</td>\n",
       "      <td>rain</td>\n",
       "      <td>normal</td>\n",
       "      <td>False</td>\n",
       "      <td>yes</td>\n",
       "    </tr>\n",
       "    <tr>\n",
       "      <th>4</th>\n",
       "      <td>cool</td>\n",
       "      <td>overcast</td>\n",
       "      <td>normal</td>\n",
       "      <td>True</td>\n",
       "      <td>yes</td>\n",
       "    </tr>\n",
       "    <tr>\n",
       "      <th>5</th>\n",
       "      <td>mild</td>\n",
       "      <td>sunny</td>\n",
       "      <td>high</td>\n",
       "      <td>False</td>\n",
       "      <td>no</td>\n",
       "    </tr>\n",
       "    <tr>\n",
       "      <th>6</th>\n",
       "      <td>cool</td>\n",
       "      <td>sunny</td>\n",
       "      <td>normal</td>\n",
       "      <td>False</td>\n",
       "      <td>yes</td>\n",
       "    </tr>\n",
       "    <tr>\n",
       "      <th>7</th>\n",
       "      <td>mild</td>\n",
       "      <td>rain</td>\n",
       "      <td>normal</td>\n",
       "      <td>False</td>\n",
       "      <td>yes</td>\n",
       "    </tr>\n",
       "    <tr>\n",
       "      <th>8</th>\n",
       "      <td>mild</td>\n",
       "      <td>sunny</td>\n",
       "      <td>normal</td>\n",
       "      <td>True</td>\n",
       "      <td>yes</td>\n",
       "    </tr>\n",
       "    <tr>\n",
       "      <th>9</th>\n",
       "      <td>mild</td>\n",
       "      <td>overcast</td>\n",
       "      <td>high</td>\n",
       "      <td>True</td>\n",
       "      <td>yes</td>\n",
       "    </tr>\n",
       "    <tr>\n",
       "      <th>10</th>\n",
       "      <td>hot</td>\n",
       "      <td>overcast</td>\n",
       "      <td>normal</td>\n",
       "      <td>False</td>\n",
       "      <td>yes</td>\n",
       "    </tr>\n",
       "    <tr>\n",
       "      <th>11</th>\n",
       "      <td>mild</td>\n",
       "      <td>rain</td>\n",
       "      <td>high</td>\n",
       "      <td>True</td>\n",
       "      <td>no</td>\n",
       "    </tr>\n",
       "    <tr>\n",
       "      <th>12</th>\n",
       "      <td>cool</td>\n",
       "      <td>rain</td>\n",
       "      <td>normal</td>\n",
       "      <td>True</td>\n",
       "      <td>no</td>\n",
       "    </tr>\n",
       "    <tr>\n",
       "      <th>13</th>\n",
       "      <td>mild</td>\n",
       "      <td>rain</td>\n",
       "      <td>high</td>\n",
       "      <td>False</td>\n",
       "      <td>yes</td>\n",
       "    </tr>\n",
       "  </tbody>\n",
       "</table>\n",
       "</div>"
      ],
      "text/plain": [
       "   Temperature   Outlook Humidity  Windy Golf\n",
       "0          hot     sunny     high  False   no\n",
       "1          hot     sunny     high   True   no\n",
       "2          hot  overcast     high  False  yes\n",
       "3         cool      rain   normal  False  yes\n",
       "4         cool  overcast   normal   True  yes\n",
       "5         mild     sunny     high  False   no\n",
       "6         cool     sunny   normal  False  yes\n",
       "7         mild      rain   normal  False  yes\n",
       "8         mild     sunny   normal   True  yes\n",
       "9         mild  overcast     high   True  yes\n",
       "10         hot  overcast   normal  False  yes\n",
       "11        mild      rain     high   True   no\n",
       "12        cool      rain   normal   True   no\n",
       "13        mild      rain     high  False  yes"
      ]
     },
     "execution_count": 4,
     "metadata": {},
     "output_type": "execute_result"
    }
   ],
   "source": [
    "golf_df.head(15)"
   ]
  },
  {
   "cell_type": "markdown",
   "metadata": {},
   "source": [
    "#### Write a function that evaluates the value of doing a split on each of the following features: \"Temperature\", \"Outlook\", \"Humidity\" or \"Windy\" on the whole dataset.\n",
    "\n",
    "#### Use \"Golf\" as label. (The classifier tries to predict if a person is going to play golf today).\n",
    "\n",
    "#### Do not use any libraries for that, instead do the calculations in your own code."
   ]
  },
  {
   "cell_type": "code",
   "execution_count": 5,
   "metadata": {},
   "outputs": [],
   "source": [
    "def my_count(df, var):\n",
    "  my_count_var = 0\n",
    "  for i in range(df.shape[0]):\n",
    "    if df.Golf.iloc[i] == var:\n",
    "      my_count_var += 1\n",
    "  return my_count_var"
   ]
  },
  {
   "cell_type": "code",
   "execution_count": 6,
   "metadata": {},
   "outputs": [],
   "source": [
    "features = [\"Temperature\", \"Outlook\", \"Humidity\", \"Windy\"]"
   ]
  },
  {
   "cell_type": "code",
   "execution_count": 7,
   "metadata": {},
   "outputs": [
    {
     "name": "stdout",
     "output_type": "stream",
     "text": [
      "feature: Temperature\n",
      "Gini: 0.5595238095238095\n",
      "Gini Impurity: 0.44047619047619047\n",
      "\n",
      "\n",
      "feature: Outlook\n",
      "Gini: 0.6571428571428571\n",
      "Gini Impurity: 0.34285714285714286\n",
      "\n",
      "\n",
      "feature: Humidity\n",
      "Gini: 0.6326530612244897\n",
      "Gini Impurity: 0.3673469387755103\n",
      "\n",
      "\n",
      "feature: Windy\n",
      "Gini: 0.5714285714285714\n",
      "Gini Impurity: 0.4285714285714286\n",
      "\n",
      "\n"
     ]
    }
   ],
   "source": [
    "for feature in features:\n",
    "  print(\"feature:\", feature)\n",
    "  #feature = \"Temperature\"\n",
    "  labels = golf_df.Golf.unique()\n",
    "  variables = golf_df[feature].unique()\n",
    "  gini_feature = 0\n",
    "  for v in variables:\n",
    "    #print(\"---\",v,\"---\")\n",
    "    temp_df = golf_df[golf_df[feature] == v]\n",
    "    gini_v = 0\n",
    "    \n",
    "    rows = temp_df.shape[0]\n",
    "    #print(\"count_rows:\",rows)\n",
    "    \n",
    "    y_count = my_count(temp_df, \"yes\")\n",
    "    #print(\"y_count:\",y_count)\n",
    "    \n",
    "    n_count = my_count(temp_df, \"no\")\n",
    "    #print(\"n_count:\",n_count)\n",
    "    \n",
    "    gini_v = (y_count / rows) ** 2 + (n_count / rows) ** 2\n",
    "    gini_feature += rows / golf_df.shape[0] * gini_v # remove magic number 14\n",
    "  print(\"Gini:\", str(gini_feature))\n",
    "  print(\"Gini Impurity:\", str(1-gini_feature))\n",
    "  print(\"\\n\")"
   ]
  }
 ],
 "metadata": {
  "kernelspec": {
   "display_name": "Python 3",
   "language": "python",
   "name": "python3"
  },
  "language_info": {
   "codemirror_mode": {
    "name": "ipython",
    "version": 3
   },
   "file_extension": ".py",
   "mimetype": "text/x-python",
   "name": "python",
   "nbconvert_exporter": "python",
   "pygments_lexer": "ipython3",
   "version": "3.7.3"
  }
 },
 "nbformat": 4,
 "nbformat_minor": 2
}
