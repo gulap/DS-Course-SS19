{
 "cells": [
  {
   "cell_type": "code",
   "execution_count": null,
   "metadata": {
    "scrolled": true
   },
   "outputs": [
    {
     "name": "stdout",
     "output_type": "stream",
     "text": [
      " 1 | 2 | 3 \n",
      "-----------\n",
      " 4 | 5 | 6 \n",
      "-----------\n",
      " 7 | 8 | 9 \n"
     ]
    }
   ],
   "source": [
    "# type numbers 1-9 to play\n",
    "# only choose empty fields\n",
    "# type number 0 to restart\n",
    "boardInit=\" 1 | 2 | 3 \\n-----------\\n 4 | 5 | 6 \\n-----------\\n 7 | 8 | 9 \"\n",
    "board=boardInit\n",
    "winner = False\n",
    "while (winner==False):\n",
    "  print(board)\n",
    "  xMove=input('Player X where do you want to put? ')\n",
    "  if xMove !='0':\n",
    "    print('Your move is', xMove)\n",
    "    board=board.replace(xMove, \"X\")\n",
    "  else:\n",
    "    print('Player O wins.')\n",
    "    board=boardInit\n",
    "  print(board)\n",
    "  oMove=input('Player O where do you want to put? ')\n",
    "  if oMove !='0':\n",
    "    print('Your move is', oMove)\n",
    "    board=board.replace(oMove, \"O\")\n",
    "  else:\n",
    "    print('Player X wins.')\n",
    "    board=boardInit"
   ]
  },
  {
   "cell_type": "code",
   "execution_count": null,
   "metadata": {},
   "outputs": [],
   "source": []
  }
 ],
 "metadata": {
  "kernelspec": {
   "display_name": "Python 3",
   "language": "python",
   "name": "python3"
  },
  "language_info": {
   "codemirror_mode": {
    "name": "ipython",
    "version": 3
   },
   "file_extension": ".py",
   "mimetype": "text/x-python",
   "name": "python",
   "nbconvert_exporter": "python",
   "pygments_lexer": "ipython3",
   "version": "3.7.3"
  }
 },
 "nbformat": 4,
 "nbformat_minor": 2
}
