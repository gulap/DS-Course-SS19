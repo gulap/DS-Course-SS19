{
 "cells": [
  {
   "cell_type": "code",
   "execution_count": 1,
   "metadata": {},
   "outputs": [],
   "source": [
    "import pandas as pd\n",
    "import numpy as np\n",
    "import matplotlib.pyplot as plt\n",
    "import seaborn as sns\n",
    "%matplotlib inline\n",
    "import json"
   ]
  },
  {
   "cell_type": "markdown",
   "metadata": {},
   "source": [
    "## Load the data in a data frame and execute the head function."
   ]
  },
  {
   "cell_type": "code",
   "execution_count": 2,
   "metadata": {},
   "outputs": [
    {
     "data": {
      "text/html": [
       "<div>\n",
       "<style scoped>\n",
       "    .dataframe tbody tr th:only-of-type {\n",
       "        vertical-align: middle;\n",
       "    }\n",
       "\n",
       "    .dataframe tbody tr th {\n",
       "        vertical-align: top;\n",
       "    }\n",
       "\n",
       "    .dataframe thead th {\n",
       "        text-align: right;\n",
       "    }\n",
       "</style>\n",
       "<table border=\"1\" class=\"dataframe\">\n",
       "  <thead>\n",
       "    <tr style=\"text-align: right;\">\n",
       "      <th></th>\n",
       "      <th>basket</th>\n",
       "      <th>returnLabel</th>\n",
       "      <th>totalAmount</th>\n",
       "      <th>transactionId</th>\n",
       "      <th>zipCode</th>\n",
       "    </tr>\n",
       "  </thead>\n",
       "  <tbody>\n",
       "    <tr>\n",
       "      <th>0</th>\n",
       "      <td>[4, 3, 0, 0, 4, 4, 0, 4, 2, 5, 4]</td>\n",
       "      <td>0</td>\n",
       "      <td>693</td>\n",
       "      <td>8220990793</td>\n",
       "      <td>2233</td>\n",
       "    </tr>\n",
       "    <tr>\n",
       "      <th>1</th>\n",
       "      <td>[3, 1, 2, 2, 1, 0, 1]</td>\n",
       "      <td>0</td>\n",
       "      <td>427</td>\n",
       "      <td>9895968997</td>\n",
       "      <td>1854</td>\n",
       "    </tr>\n",
       "    <tr>\n",
       "      <th>2</th>\n",
       "      <td>[5]</td>\n",
       "      <td>0</td>\n",
       "      <td>59</td>\n",
       "      <td>7013881318</td>\n",
       "      <td>7480</td>\n",
       "    </tr>\n",
       "    <tr>\n",
       "      <th>3</th>\n",
       "      <td>[0, 4]</td>\n",
       "      <td>0</td>\n",
       "      <td>86</td>\n",
       "      <td>2976689328</td>\n",
       "      <td>1166</td>\n",
       "    </tr>\n",
       "    <tr>\n",
       "      <th>4</th>\n",
       "      <td>[3, 1, 2, 3, 3, 5]</td>\n",
       "      <td>0</td>\n",
       "      <td>312</td>\n",
       "      <td>9014690264</td>\n",
       "      <td>6574</td>\n",
       "    </tr>\n",
       "  </tbody>\n",
       "</table>\n",
       "</div>"
      ],
      "text/plain": [
       "                              basket  returnLabel  totalAmount  transactionId  \\\n",
       "0  [4, 3, 0, 0, 4, 4, 0, 4, 2, 5, 4]            0          693     8220990793   \n",
       "1              [3, 1, 2, 2, 1, 0, 1]            0          427     9895968997   \n",
       "2                                [5]            0           59     7013881318   \n",
       "3                             [0, 4]            0           86     2976689328   \n",
       "4                 [3, 1, 2, 3, 3, 5]            0          312     9014690264   \n",
       "\n",
       "   zipCode  \n",
       "0     2233  \n",
       "1     1854  \n",
       "2     7480  \n",
       "3     1166  \n",
       "4     6574  "
      ]
     },
     "execution_count": 2,
     "metadata": {},
     "output_type": "execute_result"
    }
   ],
   "source": [
    "transactions = []\n",
    "days_in_month = 31\n",
    "for i in range (1,days_in_month+1):\n",
    "  for line in open('data/return-data/2017-01-'+str(i).zfill(2)+'.txt', 'r'):\n",
    "    transactions.append(json.loads(line))\n",
    "transactions_df = pd.DataFrame.from_dict(transactions)\n",
    "transactions_df.head()"
   ]
  },
  {
   "cell_type": "markdown",
   "metadata": {},
   "source": [
    "## Do not implement the following parts from the tutorial: \"Exploratory Data Analysis\", \"Missing Data\", \"Data Cleaning\".\n",
    "\n",
    "## Use the column \"returnLabel\" as the target variable.\n",
    "\n",
    "## Use the column \"totalAmount\" as a feature (yes, we only use one feature in this exercise).\n",
    "\n",
    "## Do a train/test data split."
   ]
  },
  {
   "cell_type": "code",
   "execution_count": 3,
   "metadata": {},
   "outputs": [],
   "source": [
    "from sklearn.model_selection import train_test_split\n",
    "\n",
    "X = transactions_df.totalAmount\n",
    "y = transactions_df.returnLabel\n",
    "X_train, X_test, y_train, y_test = train_test_split(X, y, test_size=0.30)\n",
    "\n",
    "X_train = X_train.to_frame()\n",
    "X_test = X_test.to_frame()"
   ]
  },
  {
   "cell_type": "markdown",
   "metadata": {},
   "source": [
    "## Train a logistic regression model on the train data."
   ]
  },
  {
   "cell_type": "code",
   "execution_count": 4,
   "metadata": {},
   "outputs": [],
   "source": [
    "from sklearn.linear_model import LogisticRegression\n",
    "\n",
    "logmodel = LogisticRegression(solver='lbfgs')\n",
    "logmodel.fit(X_train, y_train)\n",
    "\n",
    "predictions = logmodel.predict(X_test)"
   ]
  },
  {
   "cell_type": "markdown",
   "metadata": {},
   "source": [
    "## Evaluate your classifier on the test data and print the results."
   ]
  },
  {
   "cell_type": "code",
   "execution_count": 5,
   "metadata": {},
   "outputs": [
    {
     "name": "stdout",
     "output_type": "stream",
     "text": [
      "              precision    recall  f1-score   support\n",
      "\n",
      "           0       0.97      1.00      0.99      9029\n",
      "           1       0.00      0.00      0.00       271\n",
      "\n",
      "   micro avg       0.97      0.97      0.97      9300\n",
      "   macro avg       0.49      0.50      0.49      9300\n",
      "weighted avg       0.94      0.97      0.96      9300\n",
      "\n",
      "Accuracy: 0.970752688172043\n"
     ]
    }
   ],
   "source": [
    "from sklearn.metrics import classification_report\n",
    "import sklearn.metrics as metrics\n",
    "\n",
    "print(classification_report(y_test,predictions))\n",
    "print(\"Accuracy:\",metrics.accuracy_score(y_test, predictions))"
   ]
  }
 ],
 "metadata": {
  "kernelspec": {
   "display_name": "Python 3",
   "language": "python",
   "name": "python3"
  },
  "language_info": {
   "codemirror_mode": {
    "name": "ipython",
    "version": 3
   },
   "file_extension": ".py",
   "mimetype": "text/x-python",
   "name": "python",
   "nbconvert_exporter": "python",
   "pygments_lexer": "ipython3",
   "version": "3.7.3"
  }
 },
 "nbformat": 4,
 "nbformat_minor": 2
}
